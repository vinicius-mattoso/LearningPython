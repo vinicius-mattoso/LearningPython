{
  "nbformat": 4,
  "nbformat_minor": 0,
  "metadata": {
    "colab": {
      "provenance": [],
      "authorship_tag": "ABX9TyPZ0jl/TLmQRYxcnASQSMyG",
      "include_colab_link": true
    },
    "kernelspec": {
      "name": "python3",
      "display_name": "Python 3"
    },
    "language_info": {
      "name": "python"
    }
  },
  "cells": [
    {
      "cell_type": "markdown",
      "metadata": {
        "id": "view-in-github",
        "colab_type": "text"
      },
      "source": [
        "<a href=\"https://colab.research.google.com/github/vinicius-mattoso/LearningPython/blob/main/Tutorial_matriz_sparse.ipynb\" target=\"_parent\"><img src=\"https://colab.research.google.com/assets/colab-badge.svg\" alt=\"Open In Colab\"/></a>"
      ]
    },
    {
      "cell_type": "markdown",
      "source": [
        "# Matriz esparsa ou Sparse matrix\n",
        "\n",
        "por definição é uma matriz que possui grande parte dos seus valores nulos. Normalmente quem faz programas de calculo computacional por meio do método das diferenças finitas se depara com esse tipo de matriz. Por tanto esse tutorial, vou explicar de maenira breve uma forma de trabalhar com esse tipo de matrix.\n"
      ],
      "metadata": {
        "id": "ZQR_NsKOfzbq"
      }
    },
    {
      "cell_type": "markdown",
      "source": [
        "![image.png](data:image/png;base64,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)\n",
        "\n",
        "Os elementos diferentes de zero estão marcados com elementos pintados de preto.\n",
        "\n",
        "fonte: https://en.wikipedia.org/wiki/Sparse_matrix#/media/File:Finite_element_sparse_matrix.png"
      ],
      "metadata": {
        "id": "oyQVf36sgTKc"
      }
    },
    {
      "cell_type": "markdown",
      "source": [
        "Uma biblioteca muito usual para projetos numéricos é a scipy. E nesse caso, vamos utilizar seus sub modulos voltados para matriz esparsa"
      ],
      "metadata": {
        "id": "iZRzK4Lfgwjg"
      }
    },
    {
      "cell_type": "code",
      "metadata": {
        "id": "chqbKbHesUbb"
      },
      "source": [
        "# Aprendendo a usar as biliotecas para o sparse\n",
        "from scipy.sparse import csc_matrix\n",
        "from scipy.sparse.linalg import spsolve"
      ],
      "execution_count": 4,
      "outputs": []
    },
    {
      "cell_type": "code",
      "source": [
        "# Compressed Sparse Column matrix (CSC)\n",
        "A_dense = [[3, 2, 0], [1, -1, 0], [0, 5, 1]]\n",
        "print(type(A_dense))\n",
        "A_dense"
      ],
      "metadata": {
        "colab": {
          "base_uri": "https://localhost:8080/"
        },
        "id": "1wCR5CovhUtp",
        "outputId": "412db953-d6ad-44d1-acb6-97c250870725"
      },
      "execution_count": 58,
      "outputs": [
        {
          "output_type": "stream",
          "name": "stdout",
          "text": [
            "<class 'list'>\n"
          ]
        },
        {
          "output_type": "execute_result",
          "data": {
            "text/plain": [
              "[[3, 2, 0], [1, -1, 0], [0, 5, 1]]"
            ]
          },
          "metadata": {},
          "execution_count": 58
        }
      ]
    },
    {
      "cell_type": "code",
      "metadata": {
        "colab": {
          "base_uri": "https://localhost:8080/"
        },
        "id": "JYXA9FOZsihD",
        "outputId": "c06a46cb-8d20-42a5-dfdc-3f3e6b7bdb81"
      },
      "source": [
        "A = csc_matrix(A_dense, dtype=float)\n",
        "type(A) "
      ],
      "execution_count": 59,
      "outputs": [
        {
          "output_type": "execute_result",
          "data": {
            "text/plain": [
              "scipy.sparse.csc.csc_matrix"
            ]
          },
          "metadata": {},
          "execution_count": 59
        }
      ]
    },
    {
      "cell_type": "markdown",
      "source": [
        "Montando visualmente a nossa matriz A_dense\n",
        "______________\n",
        "| 3 | 2  | 0 |\n",
        "--------------\n",
        "| 1 | -1 | 0 |\n",
        "--------------\n",
        "| 0 | 5  | 1 |\n",
        "--------------\n",
        "______________\n"
      ],
      "metadata": {
        "id": "aCp3NSzIh8s_"
      }
    },
    {
      "cell_type": "code",
      "metadata": {
        "colab": {
          "base_uri": "https://localhost:8080/"
        },
        "id": "GZgcwRK7siYU",
        "outputId": "1383e45a-8865-43c0-914d-5f29222ee3f9"
      },
      "source": [
        "print(A)"
      ],
      "execution_count": 6,
      "outputs": [
        {
          "output_type": "stream",
          "name": "stdout",
          "text": [
            "  (0, 0)\t3.0\n",
            "  (1, 0)\t1.0\n",
            "  (0, 1)\t2.0\n",
            "  (1, 1)\t-1.0\n",
            "  (2, 1)\t5.0\n",
            "  (2, 2)\t1.0\n"
          ]
        }
      ]
    },
    {
      "cell_type": "code",
      "metadata": {
        "colab": {
          "base_uri": "https://localhost:8080/"
        },
        "id": "YpeUct0WsphE",
        "outputId": "43018a8a-516f-4e0d-d4a6-8ba94d89f6f7"
      },
      "source": [
        "# Criando uma nova matriz esparsa\n",
        "B = csc_matrix([[2, 0], [-1, 0], [2, 0]], dtype=float)\n",
        "type(B)"
      ],
      "execution_count": 7,
      "outputs": [
        {
          "output_type": "execute_result",
          "data": {
            "text/plain": [
              "scipy.sparse.csc.csc_matrix"
            ]
          },
          "metadata": {},
          "execution_count": 7
        }
      ]
    },
    {
      "cell_type": "code",
      "metadata": {
        "colab": {
          "base_uri": "https://localhost:8080/"
        },
        "id": "GjUB_F_cstYc",
        "outputId": "5242db17-65a6-4789-9f96-a2ee7389324c"
      },
      "source": [
        "print(B)"
      ],
      "execution_count": 8,
      "outputs": [
        {
          "output_type": "stream",
          "name": "stdout",
          "text": [
            "  (0, 0)\t2.0\n",
            "  (1, 0)\t-1.0\n",
            "  (2, 0)\t2.0\n"
          ]
        }
      ]
    },
    {
      "cell_type": "code",
      "metadata": {
        "id": "F1UgR0uUsy7D",
        "colab": {
          "base_uri": "https://localhost:8080/"
        },
        "outputId": "7df05ad4-b6b5-4dca-94c6-8ab8063e1cf9"
      },
      "source": [
        "# Resolvendo o sistema linear Ax=B utilizando um solver específico para matriz esparsa\n",
        "x = spsolve(A, B)\n",
        "print(x)"
      ],
      "execution_count": 60,
      "outputs": [
        {
          "output_type": "stream",
          "name": "stdout",
          "text": [
            "  (1, 0)\t1.0\n",
            "  (2, 0)\t-3.0\n"
          ]
        }
      ]
    },
    {
      "cell_type": "markdown",
      "source": [
        "## Criando um sistema com matrizes densas para comprar as respostas"
      ],
      "metadata": {
        "id": "Pj47M8LGiwYP"
      }
    },
    {
      "cell_type": "code",
      "metadata": {
        "colab": {
          "base_uri": "https://localhost:8080/"
        },
        "id": "6GB0vxpnseUq",
        "outputId": "9428c304-e60c-4d0e-96a7-b6bdcd18ff6f"
      },
      "source": [
        "import numpy as np\n",
        "\n",
        "np.allclose(A.dot(x).todense(), B.todense())"
      ],
      "execution_count": 11,
      "outputs": [
        {
          "output_type": "execute_result",
          "data": {
            "text/plain": [
              "True"
            ]
          },
          "metadata": {},
          "execution_count": 11
        }
      ]
    },
    {
      "cell_type": "markdown",
      "metadata": {
        "id": "R6wwqsufulpz"
      },
      "source": [
        "![image.png](data:image/png;base64,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)"
      ]
    },
    {
      "cell_type": "code",
      "metadata": {
        "id": "2wRmQC6XunwC"
      },
      "source": [
        "A_full=[[3,2,-1],[1,3,1],[2,2,-2]]\n",
        "B_full=[0,1,2]"
      ],
      "execution_count": 12,
      "outputs": []
    },
    {
      "cell_type": "code",
      "metadata": {
        "colab": {
          "base_uri": "https://localhost:8080/"
        },
        "id": "W_HxbvFYuy-b",
        "outputId": "41fb287e-c96a-4529-8558-ebae1fa1a5ca"
      },
      "source": [
        "#Resolvendo \n",
        "from scipy import linalg\n",
        "from numpy.linalg import inv\n",
        "# X_full=linalg.solve(A_full, B_full)\n",
        "X_full=inv(A_full) @ B_full\n",
        "\n",
        "print(X_full)"
      ],
      "execution_count": 13,
      "outputs": [
        {
          "output_type": "stream",
          "name": "stdout",
          "text": [
            "[-1.  1. -1.]\n"
          ]
        }
      ]
    },
    {
      "cell_type": "markdown",
      "source": [
        "## Outra maneira de se criar matriz esparsas\n",
        "\n",
        "Dessa vez, podemos passar 3 listas para criar, onde temos: O valor a ser alocada, a linha e a coluna desse alocamento"
      ],
      "metadata": {
        "id": "qTGT1a_YjSun"
      }
    },
    {
      "cell_type": "code",
      "metadata": {
        "id": "m4a26C-WvLXz"
      },
      "source": [
        "#Resolvendo de maneira sparsa\n",
        "linha=[0,0,0,1,1,1,2,2,2]\n",
        "col=[0,1,2,0,1,2,0,1,2]\n",
        "data=[3,2,-1,1,3,1,2,2,-2]\n",
        "#Criando a matriz\n",
        "A = csc_matrix([linha, col, data], dtype=float)"
      ],
      "execution_count": 14,
      "outputs": []
    },
    {
      "cell_type": "code",
      "metadata": {
        "colab": {
          "base_uri": "https://localhost:8080/"
        },
        "id": "68Wa6_Pdwa78",
        "outputId": "061717a9-6f10-48d5-a908-8cab36a4f57d"
      },
      "source": [
        "print(A)"
      ],
      "execution_count": 15,
      "outputs": [
        {
          "output_type": "stream",
          "name": "stdout",
          "text": [
            "  (2, 0)\t3.0\n",
            "  (1, 1)\t1.0\n",
            "  (2, 1)\t2.0\n",
            "  (1, 2)\t2.0\n",
            "  (2, 2)\t-1.0\n",
            "  (0, 3)\t1.0\n",
            "  (2, 3)\t1.0\n",
            "  (0, 4)\t1.0\n",
            "  (1, 4)\t1.0\n",
            "  (2, 4)\t3.0\n",
            "  (0, 5)\t1.0\n",
            "  (1, 5)\t2.0\n",
            "  (2, 5)\t1.0\n",
            "  (0, 6)\t2.0\n",
            "  (2, 6)\t2.0\n",
            "  (0, 7)\t2.0\n",
            "  (1, 7)\t1.0\n",
            "  (2, 7)\t2.0\n",
            "  (0, 8)\t2.0\n",
            "  (1, 8)\t2.0\n",
            "  (2, 8)\t-2.0\n"
          ]
        }
      ]
    },
    {
      "cell_type": "markdown",
      "source": [
        "A sparse matrix in COOrdinate format.\n",
        "\n",
        "Utilizar o formato coordinate, tbm nos permite criar uma matriz esparsa"
      ],
      "metadata": {
        "id": "nmLR5DMGjrTu"
      }
    },
    {
      "cell_type": "code",
      "metadata": {
        "id": "6l81YHW5way1"
      },
      "source": [
        "#create COO sparse matrix from three arrays\n",
        "from scipy import sparse\n",
        "mat_coo = sparse.coo_matrix((data, (linha, col)))"
      ],
      "execution_count": 16,
      "outputs": []
    },
    {
      "cell_type": "code",
      "metadata": {
        "colab": {
          "base_uri": "https://localhost:8080/"
        },
        "id": "l0iywORPwdfj",
        "outputId": "71d36872-15f7-46d2-86a0-d4a7cfeabaa1"
      },
      "source": [
        "# print coo_matrix\n",
        "print(mat_coo)"
      ],
      "execution_count": 17,
      "outputs": [
        {
          "output_type": "stream",
          "name": "stdout",
          "text": [
            "  (0, 0)\t3\n",
            "  (0, 1)\t2\n",
            "  (0, 2)\t-1\n",
            "  (1, 0)\t1\n",
            "  (1, 1)\t3\n",
            "  (1, 2)\t1\n",
            "  (2, 0)\t2\n",
            "  (2, 1)\t2\n",
            "  (2, 2)\t-2\n"
          ]
        }
      ]
    },
    {
      "cell_type": "code",
      "metadata": {
        "colab": {
          "base_uri": "https://localhost:8080/"
        },
        "id": "0hX9TxdWs3VD",
        "outputId": "d35a78e6-2e17-437f-e32b-dd72bd0821f0"
      },
      "source": [
        "x_sparse = spsolve(mat_coo, B_full)\n",
        "print(x_sparse)"
      ],
      "execution_count": 18,
      "outputs": [
        {
          "output_type": "stream",
          "name": "stdout",
          "text": [
            "[-1.  1. -1.]\n"
          ]
        },
        {
          "output_type": "stream",
          "name": "stderr",
          "text": [
            "/usr/local/lib/python3.8/dist-packages/scipy/sparse/linalg/dsolve/linsolve.py:144: SparseEfficiencyWarning: spsolve requires A be CSC or CSR matrix format\n",
            "  warn('spsolve requires A be CSC or CSR matrix format',\n"
          ]
        }
      ]
    }
  ]
}