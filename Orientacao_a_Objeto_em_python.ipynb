{
  "nbformat": 4,
  "nbformat_minor": 0,
  "metadata": {
    "colab": {
      "provenance": [],
      "include_colab_link": true
    },
    "kernelspec": {
      "name": "python3",
      "display_name": "Python 3"
    },
    "language_info": {
      "name": "python"
    }
  },
  "cells": [
    {
      "cell_type": "markdown",
      "metadata": {
        "id": "view-in-github",
        "colab_type": "text"
      },
      "source": [
        "<a href=\"https://colab.research.google.com/github/vinicius-mattoso/LearningPython/blob/main/Orientacao_a_Objeto_em_python.ipynb\" target=\"_parent\"><img src=\"https://colab.research.google.com/assets/colab-badge.svg\" alt=\"Open In Colab\"/></a>"
      ]
    },
    {
      "cell_type": "markdown",
      "source": [
        "# Orientação a Objeto em python"
      ],
      "metadata": {
        "id": "Exnuuyj8nPGj"
      }
    },
    {
      "cell_type": "markdown",
      "source": [
        "### Autores: Vinicius Mattoso, João Vitor de Oliveira e Sergio Ribeiro\n",
        "### Data da ultima atualização : 04/04/2023"
      ],
      "metadata": {
        "id": "RNW9a9yenT4k"
      }
    },
    {
      "cell_type": "markdown",
      "source": [
        "## Minha primeira Classe"
      ],
      "metadata": {
        "id": "8yyPKLTon3pj"
      }
    },
    {
      "cell_type": "code",
      "execution_count": null,
      "metadata": {
        "id": "WiQ9O2WGnOn_"
      },
      "outputs": [],
      "source": [
        "class Pessoa:\n",
        "  def __init__(self,nome,idade):\n",
        "    self.nome = nome\n",
        "    self.idade = idade"
      ]
    },
    {
      "cell_type": "code",
      "source": [
        "cidadao1 = Pessoa('Gabi',26)"
      ],
      "metadata": {
        "id": "59oIg5KbnnDO"
      },
      "execution_count": null,
      "outputs": []
    },
    {
      "cell_type": "code",
      "source": [
        "cidadao2 = Pessoa('Pedro',25)\n",
        "cidadao3 = Pessoa('Giovana',33)"
      ],
      "metadata": {
        "id": "wjztcN9dnsU0"
      },
      "execution_count": null,
      "outputs": []
    },
    {
      "cell_type": "markdown",
      "source": [
        "## Criando métodos na minha classe"
      ],
      "metadata": {
        "id": "v-YryUiMn6L0"
      }
    },
    {
      "cell_type": "code",
      "source": [
        "class Pessoa:\n",
        "  def __init__(self,nome,idade):\n",
        "    self.nome = nome\n",
        "    self.idade = idade\n",
        "\n",
        "  def setProfissao(self, profissao):\n",
        "    self.profissao = profissao\n",
        "\n",
        "  def getProfissao(self):\n",
        "    return self.profissao\n",
        "  \n",
        "  def updateProfissao(self, profissao):\n",
        "    self.profissao = profissao"
      ],
      "metadata": {
        "id": "zpA_q0w8n2L8"
      },
      "execution_count": null,
      "outputs": []
    },
    {
      "cell_type": "code",
      "source": [
        "cidadao2 = Pessoa('Pedro',25)\n",
        "\n",
        "#atribuindo uma profissao ao cidadao2\n",
        "\n",
        "cidadao2.setProfissao('Mecânico')\n"
      ],
      "metadata": {
        "id": "0f8CUYbyoWB_"
      },
      "execution_count": null,
      "outputs": []
    },
    {
      "cell_type": "code",
      "source": [
        "print(f'A profissão do {str(cidadao2.nome)} é {str(cidadao2.getProfissao())}')"
      ],
      "metadata": {
        "colab": {
          "base_uri": "https://localhost:8080/"
        },
        "id": "AHWJZY7uomQL",
        "outputId": "0bf50c6e-2e75-47a8-fe6d-81dac1ddab6d"
      },
      "execution_count": null,
      "outputs": [
        {
          "output_type": "stream",
          "name": "stdout",
          "text": [
            "A profissão do Pedro é Mecânico\n"
          ]
        }
      ]
    },
    {
      "cell_type": "markdown",
      "source": [
        "## Estrutura de Herança"
      ],
      "metadata": {
        "id": "kBm6wM6io7Qi"
      }
    },
    {
      "cell_type": "markdown",
      "source": [
        "### definindo a classe pai \"Animal\""
      ],
      "metadata": {
        "id": "-pHPa6FYqR2A"
      }
    },
    {
      "cell_type": "code",
      "source": [
        "class Animal:\n",
        "    def __init__(self, nome, idade):\n",
        "        self.nome = nome\n",
        "        self.idade = idade\n",
        "\n",
        "    def fazer_barulho(self):\n",
        "        print(\"Algum som\")"
      ],
      "metadata": {
        "id": "WAm7LCiYo46y"
      },
      "execution_count": null,
      "outputs": []
    },
    {
      "cell_type": "markdown",
      "source": [
        "### definindo a classe filho \"Cao\""
      ],
      "metadata": {
        "id": "Wo-hKCo3p_pB"
      }
    },
    {
      "cell_type": "code",
      "source": [
        "class Cao(Animal):\n",
        "    def __init__(self, nome, idade, raca):\n",
        "        super().__init__(nome, idade)\n",
        "        self.raca = raca\n",
        "\n",
        "    def fazer_barulho(self):\n",
        "        print(\"Au au!\")"
      ],
      "metadata": {
        "id": "IP0RJ6tZpsmC"
      },
      "execution_count": null,
      "outputs": []
    },
    {
      "cell_type": "markdown",
      "source": [
        "### definindo a classe filho \"Gato\""
      ],
      "metadata": {
        "id": "8w1-DseyqKKA"
      }
    },
    {
      "cell_type": "code",
      "source": [
        "class Gato(Animal):\n",
        "    def __init__(self, nome, idade, cor):\n",
        "        super().__init__(nome, idade)\n",
        "        self.cor = cor\n",
        "\n",
        "    def fazer_barulho(self):\n",
        "        print(\"Miau!\")"
      ],
      "metadata": {
        "id": "zy2IIj1NpwWK"
      },
      "execution_count": null,
      "outputs": []
    },
    {
      "cell_type": "markdown",
      "source": [
        "### definindo a classe filho \"Galo\""
      ],
      "metadata": {
        "id": "ETYaqGPJqOG4"
      }
    },
    {
      "cell_type": "code",
      "source": [
        "class Galo(Animal):\n",
        "    def __init__(self, nome, idade, cor):\n",
        "        super().__init__(nome, idade)\n",
        "        self.cor = cor\n",
        "\n",
        "    def fazer_barulho(self):\n",
        "        print(' Cócóricó! ')"
      ],
      "metadata": {
        "id": "V0bhbRA5py0J"
      },
      "execution_count": null,
      "outputs": []
    },
    {
      "cell_type": "markdown",
      "source": [
        "### definindo a classe filho \"Vaca\""
      ],
      "metadata": {
        "id": "pDto74lJqPvw"
      }
    },
    {
      "cell_type": "code",
      "source": [
        "class Vaca(Animal):\n",
        "    def __init__(self, nome, idade, raca):\n",
        "        super().__init__(nome, idade)\n",
        "        self.raca = raca\n",
        "\n",
        "    def fazer_barulho(self):\n",
        "        print(\"Muuuu!\")"
      ],
      "metadata": {
        "id": "QoZ8bnxjp1Bx"
      },
      "execution_count": null,
      "outputs": []
    },
    {
      "cell_type": "code",
      "source": [
        "rex = Cao(\"Rex\", 3, \"Labrador\")\n",
        "print(rex.nome)\n",
        "print(rex.idade)\n",
        "print(rex.raca)\n",
        "rex.fazer_barulho()"
      ],
      "metadata": {
        "colab": {
          "base_uri": "https://localhost:8080/"
        },
        "id": "Vb-f7YzTp-zC",
        "outputId": "2dc745a2-ad95-4584-b52a-2d5c84deac18"
      },
      "execution_count": null,
      "outputs": [
        {
          "output_type": "stream",
          "name": "stdout",
          "text": [
            "Rex\n",
            "3\n",
            "Labrador\n",
            "Au au!\n"
          ]
        }
      ]
    },
    {
      "cell_type": "code",
      "source": [
        "garfield = Gato(\"Garfield\", 5, \"Laranja\")\n",
        "print(garfield.nome)\n",
        "print(garfield.idade)\n",
        "print(garfield.cor)\n",
        "garfield.fazer_barulho()"
      ],
      "metadata": {
        "colab": {
          "base_uri": "https://localhost:8080/"
        },
        "id": "1yRR1wFFqY6R",
        "outputId": "a543060b-c6a7-41e7-fdb9-1bb35d8242cf"
      },
      "execution_count": null,
      "outputs": [
        {
          "output_type": "stream",
          "name": "stdout",
          "text": [
            "Garfield\n",
            "5\n",
            "Laranja\n",
            "Miau!\n"
          ]
        }
      ]
    },
    {
      "cell_type": "code",
      "source": [
        "zeca = Galo( \"Zeca\" , 2, 'Laranja')\n",
        "print(zeca.nome)\n",
        "print(zeca.idade)\n",
        "print(zeca.cor)\n",
        "zeca.fazer_barulho()\n"
      ],
      "metadata": {
        "colab": {
          "base_uri": "https://localhost:8080/"
        },
        "id": "PSN0T-ajqgcp",
        "outputId": "5650d1d2-1368-427b-be44-828b7add9774"
      },
      "execution_count": null,
      "outputs": [
        {
          "output_type": "stream",
          "name": "stdout",
          "text": [
            "Zeca\n",
            "2\n",
            "Laranja\n",
            " Cócóricó! \n"
          ]
        }
      ]
    },
    {
      "cell_type": "code",
      "source": [
        "mimosa = Vaca(\"Mimosa\", 4, \"Holandesa\")\n",
        "print(mimosa.nome)\n",
        "print(mimosa.idade)\n",
        "print(mimosa.raca)\n",
        "garfield.fazer_barulho()"
      ],
      "metadata": {
        "colab": {
          "base_uri": "https://localhost:8080/"
        },
        "id": "A_p4ZNefqr8J",
        "outputId": "b0048244-e42c-4c31-ad12-d29747459dd5"
      },
      "execution_count": null,
      "outputs": [
        {
          "output_type": "stream",
          "name": "stdout",
          "text": [
            "Mimosa\n",
            "4\n",
            "Holandesa\n",
            "Miau!\n"
          ]
        }
      ]
    },
    {
      "cell_type": "markdown",
      "source": [
        "## Estrutura de Herança (Exemplo 02)"
      ],
      "metadata": {
        "id": "MDA7-zovq5MI"
      }
    },
    {
      "cell_type": "code",
      "source": [
        "from math import sqrt"
      ],
      "metadata": {
        "id": "fuJZt8gXrnco"
      },
      "execution_count": null,
      "outputs": []
    },
    {
      "cell_type": "code",
      "source": [
        "class Retangulo:\n",
        "    def __init__(self, altura, comprimento):\n",
        "        self.altura = altura\n",
        "        self.comprimento = comprimento\n",
        "\n",
        "    def calculoArea(self):\n",
        "        self.area = self.altura * self.comprimento\n",
        "        return self.area\n",
        "\n",
        "    def calculoDiagonal (self):\n",
        "\t      self.diagonal = sqrt((self.altura **2 +  self.comprimento **2))\n",
        "\n",
        "\n"
      ],
      "metadata": {
        "id": "KsNXF5kxquQp"
      },
      "execution_count": null,
      "outputs": []
    },
    {
      "cell_type": "code",
      "source": [
        "class Quadrado(Retangulo):\n",
        "    def __init__(self, lado):\n",
        "        super().__init__(lado, lado)"
      ],
      "metadata": {
        "id": "Y-PC0HJIq8z_"
      },
      "execution_count": null,
      "outputs": []
    },
    {
      "cell_type": "code",
      "source": [
        "quadrado_1 = Quadrado(2)\n",
        "quadrado_1.calculoArea()\n"
      ],
      "metadata": {
        "colab": {
          "base_uri": "https://localhost:8080/"
        },
        "id": "NhzIzQxfrF2j",
        "outputId": "9fc80bf5-cdee-45bf-9a91-ad1451ade227"
      },
      "execution_count": null,
      "outputs": [
        {
          "output_type": "execute_result",
          "data": {
            "text/plain": [
              "4"
            ]
          },
          "metadata": {},
          "execution_count": 49
        }
      ]
    },
    {
      "cell_type": "code",
      "source": [
        "quadrado_1.calculoDiagonal()\n",
        "\n",
        "print(quadrado_1.diagonal)"
      ],
      "metadata": {
        "colab": {
          "base_uri": "https://localhost:8080/"
        },
        "id": "B_CxpecPrXep",
        "outputId": "fffbc019-0af0-4121-e3a9-8c258d2ce22e"
      },
      "execution_count": null,
      "outputs": [
        {
          "output_type": "stream",
          "name": "stdout",
          "text": [
            "2.8284271247461903\n"
          ]
        }
      ]
    },
    {
      "cell_type": "markdown",
      "source": [
        "## Decorador @staticmethod"
      ],
      "metadata": {
        "id": "XHt7Fq1Lr-jg"
      }
    },
    {
      "cell_type": "code",
      "source": [
        "class Circulo:\n",
        "    PI = 3.14159\n",
        "\n",
        "    def __init__(self, raio):\n",
        "        self.raio = raio\n",
        "\n",
        "    def calcular_area(self):\n",
        "        return self.PI * self.raio ** 2"
      ],
      "metadata": {
        "id": "fulYMDk9rczg"
      },
      "execution_count": null,
      "outputs": []
    },
    {
      "cell_type": "code",
      "source": [
        "circulo_1 = Circulo(10)"
      ],
      "metadata": {
        "id": "5A04C2H5sEy4"
      },
      "execution_count": null,
      "outputs": []
    },
    {
      "cell_type": "code",
      "source": [
        "circulo_1.PI"
      ],
      "metadata": {
        "colab": {
          "base_uri": "https://localhost:8080/"
        },
        "id": "Eatx9lQpsIcY",
        "outputId": "1fd07633-7581-46a0-d71d-764c668cf873"
      },
      "execution_count": null,
      "outputs": [
        {
          "output_type": "execute_result",
          "data": {
            "text/plain": [
              "3.14159"
            ]
          },
          "metadata": {},
          "execution_count": 53
        }
      ]
    },
    {
      "cell_type": "markdown",
      "source": [
        "Utilizando esse decorador não precisamos instanciar toda a classe para obtenção do valor aproximado de $\\pi$"
      ],
      "metadata": {
        "id": "1FkFyl96shoY"
      }
    },
    {
      "cell_type": "code",
      "source": [
        "class Circulo:\n",
        "    PI = 3.14159\n",
        "\n",
        "    def __init__(self, raio):\n",
        "        self.raio = raio\n",
        "\n",
        "    @staticmethod\n",
        "    def obter_pi():\n",
        "        return Circulo.PI\n",
        "\n",
        "    def calcular_area(self):\n",
        "        return self.obter_pi()* self.raio ** 2"
      ],
      "metadata": {
        "id": "Ra2IOjhHsKkA"
      },
      "execution_count": null,
      "outputs": []
    },
    {
      "cell_type": "code",
      "source": [
        "Circulo.obter_pi()"
      ],
      "metadata": {
        "colab": {
          "base_uri": "https://localhost:8080/"
        },
        "id": "l4cgTAlcsSMw",
        "outputId": "4ab93a21-cac0-4bdc-acbe-d695e093c62a"
      },
      "execution_count": null,
      "outputs": [
        {
          "output_type": "execute_result",
          "data": {
            "text/plain": [
              "3.14159"
            ]
          },
          "metadata": {},
          "execution_count": 56
        }
      ]
    },
    {
      "cell_type": "markdown",
      "source": [
        "## Composição de classes"
      ],
      "metadata": {
        "id": "1mWxVrcTsmlX"
      }
    },
    {
      "cell_type": "code",
      "source": [
        "class Motor:\n",
        "    def __init__(self, tipo, potencia):\n",
        "        self.tipo = tipo\n",
        "        self.potencia = potencia\n",
        "\n",
        "class Pneu:\n",
        "    def __init__(self, tipo, largura):\n",
        "        self.tipo = tipo\n",
        "        self.largura = largura\n",
        "\n",
        "class Carro:\n",
        "    def __init__(self, modelo, motor , pneu):\n",
        "        self.modelo = modelo\n",
        "        self.motor = motor\n",
        "        self.pneu = pneu\n",
        "\n",
        "    def acelerar(self):\n",
        "        print(\"O carro está acelerando com um motor movido a{} e usando um pneu para {}.\".format(self.motor.tipo, self.pneu.tipo))"
      ],
      "metadata": {
        "id": "PJY98GBvsb3o"
      },
      "execution_count": null,
      "outputs": []
    },
    {
      "cell_type": "code",
      "source": [
        "motor1 = Motor(\"gasolina\", 150)\n",
        "\n",
        "pneu1 = Pneu('chuva',60)\n",
        "\n",
        "carro1 = Carro(\"Fusca\", motor1, pneu1)\n",
        "\n",
        "carro1.acelerar()"
      ],
      "metadata": {
        "colab": {
          "base_uri": "https://localhost:8080/"
        },
        "id": "ujRhabXGsrXY",
        "outputId": "535b1793-dfb2-41bd-c544-160b9377911e"
      },
      "execution_count": null,
      "outputs": [
        {
          "output_type": "stream",
          "name": "stdout",
          "text": [
            "O carro está acelerando com um motor movido agasolina e usando um pneu para chuva.\n"
          ]
        }
      ]
    },
    {
      "cell_type": "markdown",
      "source": [
        "# Resolução do Exercício"
      ],
      "metadata": {
        "id": "I7kWQxmLs987"
      }
    },
    {
      "cell_type": "code",
      "source": [
        "\n",
        "class ContaBancaria:\n",
        "    def __init__(self, numero_conta, titular, saldo, limite_saque):\n",
        "        self.numero_conta = numero_conta\n",
        "        self.titular = titular\n",
        "        self.saldo = saldo\n",
        "        self.limite_saque = limite_saque\n",
        "\n",
        "    def depositar(self, valor):\n",
        "        self.saldo += valor\n",
        "\n",
        "    def sacar(self, valor):\n",
        "        if valor <= self.limite_saque and valor <= self.saldo:\n",
        "            self.saldo -= valor\n",
        "            print(\"Saque realizado.\")\n",
        "        else:\n",
        "            print(\"Saldo insuficiente ou limite de saque excedido.\")"
      ],
      "metadata": {
        "id": "Lga8dx7OsuzH"
      },
      "execution_count": null,
      "outputs": []
    },
    {
      "cell_type": "code",
      "source": [
        "class ContaCorrente(ContaBancaria):\n",
        "    def __init__(self, numero_conta, titular, saldo, limite_saque, cheque_especial):\n",
        "        super().__init__(numero_conta, titular, saldo, limite_saque)\n",
        "        self.cheque_especial = cheque_especial\n",
        "\n",
        "    def usar_cheque_especial(self, valor):\n",
        "        if valor <= self.limite_saque + self.cheque_especial and valor <= self.saldo + self.cheque_especial:\n",
        "            self.saldo -= valor\n",
        "            print(\"Saque realizado com cheque especial.\")\n",
        "        else:\n",
        "            print(\"Limite de cheque especial excedido.\")\n",
        "\n",
        "class ContaPoupanca(ContaBancaria):\n",
        "    def __init__(self, numero_conta, titular, saldo, limite_saque, taxa_juros):\n",
        "        super().__init__(numero_conta, titular, saldo, limite_saque)\n",
        "        self.taxa_juros = taxa_juros\n",
        "\n",
        "    def calcular_juros(self):\n",
        "        juros = self.saldo * (self.taxa_juros / 12)\n",
        "        self.saldo += juros\n",
        "\n",
        "   \n",
        "\n"
      ],
      "metadata": {
        "id": "TmgCf8dAs9kz"
      },
      "execution_count": null,
      "outputs": []
    },
    {
      "cell_type": "code",
      "source": [
        "# Teste das classes\n",
        "conta_corrente = ContaCorrente(12345, \"Fulano de Tal\", 1000.00, 500.00, 2000.00)\n",
        "conta_corrente.usar_cheque_especial(2000.00)\n",
        "conta_corrente.sacar(600.00)\n",
        "print(\"Saldo conta corrente:\", conta_corrente.saldo)\n",
        "\n",
        "conta_poupanca = ContaPoupanca(67890, \"Ciclano de Tal\", 5000.00, 1000.00, 0.05)\n",
        "conta_poupanca.depositar(1000.00)\n",
        "conta_poupanca.calcular_juros()\n",
        "print(\"Saldo conta poupança:\", conta_poupanca.saldo)"
      ],
      "metadata": {
        "colab": {
          "base_uri": "https://localhost:8080/"
        },
        "id": "Tj8LprtytEN0",
        "outputId": "7eb0335e-09a1-4e5e-c8ff-61596053f57b"
      },
      "execution_count": null,
      "outputs": [
        {
          "output_type": "stream",
          "name": "stdout",
          "text": [
            "Saque realizado com cheque especial.\n",
            "Saldo insuficiente ou limite de saque excedido.\n",
            "Saldo conta corrente: -1000.0\n",
            "Saldo conta poupança: 6025.0\n"
          ]
        }
      ]
    },
    {
      "cell_type": "code",
      "source": [],
      "metadata": {
        "id": "k-02RFLLtHrf"
      },
      "execution_count": null,
      "outputs": []
    }
  ]
}