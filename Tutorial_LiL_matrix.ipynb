{
  "nbformat": 4,
  "nbformat_minor": 0,
  "metadata": {
    "colab": {
      "provenance": [],
      "authorship_tag": "ABX9TyMZjQ52CD2E484DwNcwu7pS",
      "include_colab_link": true
    },
    "kernelspec": {
      "name": "python3",
      "display_name": "Python 3"
    },
    "language_info": {
      "name": "python"
    }
  },
  "cells": [
    {
      "cell_type": "markdown",
      "metadata": {
        "id": "view-in-github",
        "colab_type": "text"
      },
      "source": [
        "<a href=\"https://colab.research.google.com/github/vinicius-mattoso/LearningPython/blob/main/Tutorial_LiL_matrix.ipynb\" target=\"_parent\"><img src=\"https://colab.research.google.com/assets/colab-badge.svg\" alt=\"Open In Colab\"/></a>"
      ]
    },
    {
      "cell_type": "markdown",
      "source": [
        "# lil_matrix(shape,dtype)\n",
        "\n",
        "Row-based list of lists sparse matrix\n",
        "\n",
        "This is a structure for constructing sparse matrices incrementally. Note that inserting a single item can take linear time in the worst case; to construct a matrix efficiently, make sure the items are pre-sorted by index, per row."
      ],
      "metadata": {
        "id": "PFfSWdVxr2Ej"
      }
    },
    {
      "cell_type": "code",
      "execution_count": 1,
      "metadata": {
        "id": "9pVW8EGlru_i"
      },
      "outputs": [],
      "source": [
        "import scipy as sp\n",
        "import numpy as np\n",
        "from scipy.sparse import lil_matrix\n",
        "from numpy.random import rand"
      ]
    },
    {
      "cell_type": "code",
      "source": [
        "# alocando espaço de memória para uma matriz 4x5\n",
        "mtx = lil_matrix((4, 5))"
      ],
      "metadata": {
        "id": "i5sLC9Vlr42l"
      },
      "execution_count": 7,
      "outputs": []
    },
    {
      "cell_type": "code",
      "source": [
        "print(type(mtx))"
      ],
      "metadata": {
        "colab": {
          "base_uri": "https://localhost:8080/"
        },
        "id": "nD3AV2sdr6ED",
        "outputId": "87203292-0795-405c-aae2-1df52065d6ec"
      },
      "execution_count": 4,
      "outputs": [
        {
          "output_type": "stream",
          "name": "stdout",
          "text": [
            "<class 'scipy.sparse.lil.lil_matrix'>\n"
          ]
        }
      ]
    },
    {
      "cell_type": "code",
      "source": [
        "# Como podemos ver ela ainda não contem nenhum valor\n",
        "print(mtx)"
      ],
      "metadata": {
        "colab": {
          "base_uri": "https://localhost:8080/"
        },
        "id": "Q-8WkVFOsEWr",
        "outputId": "2d0b8a0f-7cbe-4945-a2a7-057996a530c7"
      },
      "execution_count": 8,
      "outputs": [
        {
          "output_type": "stream",
          "name": "stdout",
          "text": [
            "\n"
          ]
        }
      ]
    },
    {
      "cell_type": "code",
      "source": [
        "#Criando os dados para colocar na matriz\n",
        "data = np.round(rand(2, 3))\n",
        "data"
      ],
      "metadata": {
        "colab": {
          "base_uri": "https://localhost:8080/"
        },
        "id": "55FOw5o0r7Gc",
        "outputId": "c9c9f421-153a-43fa-ed04-6e57cf618e6e"
      },
      "execution_count": 9,
      "outputs": [
        {
          "output_type": "execute_result",
          "data": {
            "text/plain": [
              "array([[0., 0., 1.],\n",
              "       [1., 1., 0.]])"
            ]
          },
          "metadata": {},
          "execution_count": 9
        }
      ]
    },
    {
      "cell_type": "code",
      "source": [
        "#assign the data using fancy indexing\n",
        "mtx[:2, [1, 2, 3]] = data"
      ],
      "metadata": {
        "id": "0erSsNr_sAaU"
      },
      "execution_count": 10,
      "outputs": []
    },
    {
      "cell_type": "code",
      "source": [
        "# Exibindo a matriz\n",
        "print(mtx)"
      ],
      "metadata": {
        "colab": {
          "base_uri": "https://localhost:8080/"
        },
        "id": "V5nep655sCkD",
        "outputId": "62e571dd-54be-43e5-8362-21fe4f46ab67"
      },
      "execution_count": 11,
      "outputs": [
        {
          "output_type": "stream",
          "name": "stdout",
          "text": [
            "  (0, 3)\t1.0\n",
            "  (1, 1)\t1.0\n",
            "  (1, 2)\t1.0\n"
          ]
        }
      ]
    },
    {
      "cell_type": "code",
      "source": [
        "mtx.todense()"
      ],
      "metadata": {
        "colab": {
          "base_uri": "https://localhost:8080/"
        },
        "id": "NdZPB5cqsRHT",
        "outputId": "c42a559d-d19b-4cff-8fd0-3900cf204750"
      },
      "execution_count": 12,
      "outputs": [
        {
          "output_type": "execute_result",
          "data": {
            "text/plain": [
              "matrix([[0., 0., 0., 1., 0.],\n",
              "        [0., 1., 1., 0., 0.],\n",
              "        [0., 0., 0., 0., 0.],\n",
              "        [0., 0., 0., 0., 0.]])"
            ]
          },
          "metadata": {},
          "execution_count": 12
        }
      ]
    },
    {
      "cell_type": "code",
      "source": [
        "mtx.toarray()"
      ],
      "metadata": {
        "colab": {
          "base_uri": "https://localhost:8080/"
        },
        "id": "KYK6HXf1sUsb",
        "outputId": "f1846aff-e225-4ca1-b973-1c1fb76748a2"
      },
      "execution_count": 13,
      "outputs": [
        {
          "output_type": "execute_result",
          "data": {
            "text/plain": [
              "array([[0., 0., 0., 1., 0.],\n",
              "       [0., 1., 1., 0., 0.],\n",
              "       [0., 0., 0., 0., 0.],\n",
              "       [0., 0., 0., 0., 0.]])"
            ]
          },
          "metadata": {},
          "execution_count": 13
        }
      ]
    },
    {
      "cell_type": "markdown",
      "source": [
        "### Agora vou tentar resolver novamente o sistema linear, usando agora essa definição de matriz sparsa\n",
        "\n",
        "https://scipy-lectures.org/advanced/scipy_sparse/lil_matrix.html\n"
      ],
      "metadata": {
        "id": "A5ttIsrzsZ7S"
      }
    },
    {
      "cell_type": "markdown",
      "source": [
        "![image.png](data:image/png;base64,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)"
      ],
      "metadata": {
        "id": "hmOGxVSUsb85"
      }
    },
    {
      "cell_type": "code",
      "source": [
        "A=lil_matrix((3,3),dtype=np.int64)\n",
        "print(A)"
      ],
      "metadata": {
        "colab": {
          "base_uri": "https://localhost:8080/"
        },
        "id": "XhIO2AOUsXAr",
        "outputId": "85b25722-8ff1-49da-fa48-5fa966b4aa1a"
      },
      "execution_count": 14,
      "outputs": [
        {
          "output_type": "stream",
          "name": "stdout",
          "text": [
            "\n"
          ]
        }
      ]
    },
    {
      "cell_type": "code",
      "source": [
        "#Definindo manualmente os elementso \n",
        "#Primeira linha\n",
        "A[0,0]=3\n",
        "A[0,1]=2\n",
        "A[0,2]=-1"
      ],
      "metadata": {
        "id": "3DsaCx5Esdvr"
      },
      "execution_count": 15,
      "outputs": []
    },
    {
      "cell_type": "code",
      "source": [
        "print(A)"
      ],
      "metadata": {
        "colab": {
          "base_uri": "https://localhost:8080/"
        },
        "id": "kKiA86lgsfVJ",
        "outputId": "f3f7bf30-b751-4175-a89c-0b1dd47ca7a3"
      },
      "execution_count": 16,
      "outputs": [
        {
          "output_type": "stream",
          "name": "stdout",
          "text": [
            "  (0, 0)\t3\n",
            "  (0, 1)\t2\n",
            "  (0, 2)\t-1\n"
          ]
        }
      ]
    },
    {
      "cell_type": "code",
      "source": [
        "A.todense()"
      ],
      "metadata": {
        "colab": {
          "base_uri": "https://localhost:8080/"
        },
        "id": "iqyM1omisgMa",
        "outputId": "01c6d781-4853-455e-850f-466f44acb901"
      },
      "execution_count": 17,
      "outputs": [
        {
          "output_type": "execute_result",
          "data": {
            "text/plain": [
              "matrix([[ 3,  2, -1],\n",
              "        [ 0,  0,  0],\n",
              "        [ 0,  0,  0]])"
            ]
          },
          "metadata": {},
          "execution_count": 17
        }
      ]
    },
    {
      "cell_type": "code",
      "source": [
        "#Segunda linha\n",
        "A[1,0]=1\n",
        "A[1,1]=3\n",
        "A[1,2]=1"
      ],
      "metadata": {
        "id": "VVznFdwdsheM"
      },
      "execution_count": 18,
      "outputs": []
    },
    {
      "cell_type": "code",
      "source": [
        "#Terceira linha\n",
        "A[2,0]=2\n",
        "A[2,1]=2\n",
        "A[2,2]=-2"
      ],
      "metadata": {
        "id": "z0j4ZWphslh8"
      },
      "execution_count": 19,
      "outputs": []
    },
    {
      "cell_type": "code",
      "source": [
        "# b=[0,1,2]\n",
        "b = np.array([0,1, 2], dtype=np.float32)"
      ],
      "metadata": {
        "id": "vWW_89vgsmcr"
      },
      "execution_count": 20,
      "outputs": []
    },
    {
      "cell_type": "code",
      "source": [
        "from scipy.sparse.linalg import dsolve\n",
        "x = dsolve.spsolve(A, b, use_umfpack=False)\n",
        "x"
      ],
      "metadata": {
        "colab": {
          "base_uri": "https://localhost:8080/"
        },
        "id": "jcr9E3zqtSBR",
        "outputId": "1262b0da-5592-4e13-e4d5-4e445f373fc6"
      },
      "execution_count": 22,
      "outputs": [
        {
          "output_type": "stream",
          "name": "stderr",
          "text": [
            "/usr/local/lib/python3.8/dist-packages/scipy/sparse/linalg/dsolve/linsolve.py:144: SparseEfficiencyWarning: spsolve requires A be CSC or CSR matrix format\n",
            "  warn('spsolve requires A be CSC or CSR matrix format',\n"
          ]
        },
        {
          "output_type": "execute_result",
          "data": {
            "text/plain": [
              "array([-1.,  1., -1.])"
            ]
          },
          "metadata": {},
          "execution_count": 22
        }
      ]
    },
    {
      "cell_type": "code",
      "source": [
        "from scipy.sparse.linalg import spsolve\n",
        "x_sparse = spsolve(A,b)\n",
        "print(x_sparse)"
      ],
      "metadata": {
        "colab": {
          "base_uri": "https://localhost:8080/"
        },
        "id": "DLnZe5EftWPq",
        "outputId": "ee7beec8-96d6-4524-fd2b-ed42d0375ba4"
      },
      "execution_count": 23,
      "outputs": [
        {
          "output_type": "stream",
          "name": "stdout",
          "text": [
            "[-1.  1. -1.]\n"
          ]
        }
      ]
    },
    {
      "cell_type": "markdown",
      "source": [
        "https://scicomp.stackexchange.com/questions/104/libraries-for-solving-sparse-linear-systems\n",
        "\n",
        "https://scipy-lectures.org/advanced/scipy_sparse/solvers.html\n"
      ],
      "metadata": {
        "id": "v0DpiLKstf2x"
      }
    },
    {
      "cell_type": "code",
      "source": [
        "\"\"\"\n",
        "Solve a linear system\n",
        "=======================\n",
        "\n",
        "Construct a 1000x1000 lil_matrix and add some values to it, convert it\n",
        "to CSR format and solve A x = b for x:and solve a linear system with a\n",
        "direct solver.\n",
        "\"\"\"\n",
        "import numpy as np\n",
        "import scipy.sparse as sps\n",
        "from matplotlib import pyplot as plt\n",
        "from scipy.sparse.linalg.dsolve import linsolve\n",
        "\n",
        "rand = np.random.rand\n",
        "\n",
        "mtx = sps.lil_matrix((1000, 1000), dtype=np.float64)\n",
        "mtx[0, :100] = rand(100)\n",
        "mtx[1, 100:200] = mtx[0, :100]\n",
        "mtx.setdiag(rand(1000))\n",
        "\n",
        "plt.clf()\n",
        "plt.spy(mtx, marker='.', markersize=2)\n",
        "plt.show()\n",
        "\n",
        "mtx = mtx.tocsr()\n",
        "rhs = rand(1000)\n",
        "\n",
        "x = linsolve.spsolve(mtx, rhs)\n",
        "\n",
        "print('rezidual: %r' % np.linalg.norm(mtx * x - rhs))"
      ],
      "metadata": {
        "colab": {
          "base_uri": "https://localhost:8080/",
          "height": 286
        },
        "id": "vxqN6DZhtZ-L",
        "outputId": "2a587943-6717-40ee-9752-6fbdc948bb09"
      },
      "execution_count": 24,
      "outputs": [
        {
          "output_type": "display_data",
          "data": {
            "text/plain": [
              "<Figure size 432x288 with 1 Axes>"
            ],
            "image/png": "[encoded data removed]"
          },
          "metadata": {
            "needs_background": "light"
          }
        },
        {
          "output_type": "stream",
          "name": "stdout",
          "text": [
            "rezidual: 9.52702262440046e-14\n"
          ]
        }
      ]
    },
    {
      "cell_type": "code",
      "source": [
        "print(mtx)"
      ],
      "metadata": {
        "colab": {
          "base_uri": "https://localhost:8080/"
        },
        "id": "At1LWDtLthkL",
        "outputId": "2ddf87f3-e51f-48c9-aebd-546ae36d23fe"
      },
      "execution_count": 25,
      "outputs": [
        {
          "output_type": "stream",
          "name": "stdout",
          "text": [
            "  (0, 0)\t0.49381408768538393\n",
            "  (0, 1)\t0.6708925268665465\n",
            "  (0, 2)\t0.059342579766703984\n",
            "  (0, 3)\t0.7030235452942698\n",
            "  (0, 4)\t0.5278517900569255\n",
            "  (0, 5)\t0.2898529571281887\n",
            "  (0, 6)\t0.294089696063241\n",
            "  (0, 7)\t0.3176840691887314\n",
            "  (0, 8)\t0.5017978677585962\n",
            "  (0, 9)\t0.015410470922852193\n",
            "  (0, 10)\t0.49664879072977186\n",
            "  (0, 11)\t0.0941644175927071\n",
            "  (0, 12)\t0.8692286604248376\n",
            "  (0, 13)\t0.16573051102362368\n",
            "  (0, 14)\t0.013795629996865899\n",
            "  (0, 15)\t0.3247285541947045\n",
            "  (0, 16)\t0.4009646255323981\n",
            "  (0, 17)\t0.6178126944783549\n",
            "  (0, 18)\t0.529530814609951\n",
            "  (0, 19)\t0.77358812134222\n",
            "  (0, 20)\t0.5931858036669649\n",
            "  (0, 21)\t0.5549101386129537\n",
            "  (0, 22)\t0.16630129610929278\n",
            "  (0, 23)\t0.8785651180852055\n",
            "  (0, 24)\t0.0918139915764099\n",
            "  :\t:\n",
            "  (975, 975)\t0.8248012909713673\n",
            "  (976, 976)\t0.8782918191410864\n",
            "  (977, 977)\t0.7512878390690545\n",
            "  (978, 978)\t0.24189679689771315\n",
            "  (979, 979)\t0.3606172672717024\n",
            "  (980, 980)\t0.9452811858649394\n",
            "  (981, 981)\t0.4862383410645459\n",
            "  (982, 982)\t0.6432598728386646\n",
            "  (983, 983)\t0.5936033538878078\n",
            "  (984, 984)\t0.922823859561357\n",
            "  (985, 985)\t0.5068793008624356\n",
            "  (986, 986)\t0.15475643976593878\n",
            "  (987, 987)\t0.7168113144436472\n",
            "  (988, 988)\t0.607177394244676\n",
            "  (989, 989)\t0.1423597487272773\n",
            "  (990, 990)\t0.5945438753483794\n",
            "  (991, 991)\t0.1153656973794388\n",
            "  (992, 992)\t0.134466476708345\n",
            "  (993, 993)\t0.7323048391219411\n",
            "  (994, 994)\t0.18762999231265964\n",
            "  (995, 995)\t0.07688242138566659\n",
            "  (996, 996)\t0.7262967389497221\n",
            "  (997, 997)\t0.48285776840427874\n",
            "  (998, 998)\t0.09736891928208757\n",
            "  (999, 999)\t0.6755363039842566\n"
          ]
        }
      ]
    },
    {
      "cell_type": "code",
      "source": [],
      "metadata": {
        "id": "InaXURM8tiha"
      },
      "execution_count": null,
      "outputs": []
    }
  ]
}